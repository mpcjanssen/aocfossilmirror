{
 "cells": [
  {
   "cell_type": "code",
   "execution_count": 8,
   "metadata": {},
   "outputs": [],
   "source": [
    "source setup.tcl"
   ]
  },
  {
   "cell_type": "code",
   "execution_count": 9,
   "metadata": {},
   "outputs": [
    {
     "data": {
      "text/html": [
       "<article class=\"day-desc\">\n",
       "<h2>--- Day 1: Report Repair ---</h2><p>After saving Christmas <a href=\"/events\">five years in a row</a>, you've decided to take a vacation at a nice resort on a tropical island. <span title=\"WHAT COULD GO WRONG\">Surely</span>, Christmas will go on without you.</p><p>The tropical island has its own currency and is entirely cash-only.  The gold coins used there have a little picture of a starfish; the locals just call them <em class=\"star\">stars</em>. None of the currency exchanges seem to have heard of them, but somehow, you'll need to find fifty of these coins by the time you arrive so you can pay the deposit on your room.</p><p>To save your vacation, you need to get all <em class=\"star\">fifty stars</em> by December 25th.</p><p>Collect stars by solving puzzles.  Two puzzles will be made available on each day in the Advent calendar; the second puzzle is unlocked when you complete the first.  Each puzzle grants <em class=\"star\">one star</em>. Good luck!</p><p>Before you leave, the Elves in accounting just need you to fix your <em>expense report</em> (your puzzle input); apparently, something isn't quite adding up.</p><p>Specifically, they need you to <em>find the two entries that sum to <code>2020</code>\n",
       "</em> and then multiply those two numbers together.</p><p>For example, suppose your expense report contained the following:</p><pre><code>1721\n",
       "979\n",
       "366\n",
       "299\n",
       "675\n",
       "1456\n",
       "</code></pre><p>In this list, the two entries that sum to <code>2020</code> are <code>1721</code> and <code>299</code>. Multiplying them together produces <code>1721 * 299 = 514579</code>, so the correct answer is <code><em>514579</em></code>.</p><p>Of course, your expense report is much larger. <em>Find the two entries that sum to <code>2020</code>; what do you get if you multiply them together?</em>\n",
       "</p>\n",
       "</article>"
      ]
     },
     "metadata": {},
     "output_type": "display_data"
    }
   ],
   "source": [
    "aoc::get-puzzle 2020 1 1"
   ]
  },
  {
   "cell_type": "code",
   "execution_count": 11,
   "metadata": {},
   "outputs": [
    {
     "name": "stdout",
     "output_type": "stream",
     "text": [
      "1470\n",
      "1577\n",
      "1054\n",
      "1962\n",
      "1107\n",
      "1123\n",
      "1683\n",
      "1680\n",
      "1176\n",
      "1917\n",
      "1786\n",
      "1565\n",
      "1464\n",
      "1097\n",
      "1363\n",
      "1091\n",
      "1072\n",
      "1821\n",
      "1514\n",
      "1526\n",
      "1...\n"
     ]
    }
   ],
   "source": [
    "set input [aoc::get-input 2020 1];\n",
    "puts [string range $input 0 100]..."
   ]
  },
  {
   "cell_type": "code",
   "execution_count": 12,
   "metadata": {},
   "outputs": [
    {
     "data": {
      "text/plain": []
     },
     "execution_count": 12,
     "metadata": {},
     "output_type": "execute_result"
    }
   ],
   "source": [
    "set data [split [string trim $input] \\n];"
   ]
  },
  {
   "cell_type": "code",
   "execution_count": 13,
   "metadata": {},
   "outputs": [
    {
     "data": {
      "text/html": [
       "<article class=\"day-desc\">\n",
       "<h2 id=\"part2\">--- Part Two ---</h2><p>The Elves in accounting are thankful for your help; one of them even offers you a starfish coin they had left over from a past vacation. They offer you a second one if you can find <em>three</em> numbers in your expense report that meet the same criteria.</p><p>Using the above example again, the three entries that sum to <code>2020</code> are <code>979</code>, <code>366</code>, and <code>675</code>. Multiplying them together produces the answer, <code><em>241861950</em></code>.</p><p>In your expense report, <em>what is the product of the three entries that sum to <code>2020</code>?</em>\n",
       "</p>\n",
       "</article>"
      ]
     },
     "metadata": {},
     "output_type": "display_data"
    }
   ],
   "source": [
    "aoc::get-puzzle 2020 1 2"
   ]
  },
  {
   "cell_type": "code",
   "execution_count": 14,
   "metadata": {},
   "outputs": [
    {
     "name": "stdout",
     "output_type": "stream",
     "text": [
      "Part2:\t173538720\n",
      "Part1:\t618144\n"
     ]
    },
    {
     "data": {
      "text/plain": [
       "18617 microseconds per iteration"
      ]
     },
     "execution_count": 14,
     "metadata": {},
     "output_type": "execute_result"
    }
   ],
   "source": [
    "proc parts data {\n",
    "    set data [lsort -integer $data]\n",
    "    set l [llength $data]\n",
    "    set d1 false\n",
    "    set d2 false\n",
    "    for {set x 0} {$x < $l} {incr x} {\n",
    "        if {$d1 && $d2} return\n",
    "            for {set y [expr {$x+1}]} {$y < $l} {incr y} {\n",
    "                set a [lindex $data $x]\n",
    "                set b [lindex $data $y]\n",
    "                if {$a + $b > 2020} break\n",
    "                 if {!$d1 && $a+$b == 2020} {\n",
    "                    puts  Part1:\\t[ * $a $b ]\n",
    "                    set d1 true\n",
    "                }\n",
    "                for {set z [expr {$y+1}]} {$z < $l} {incr z} {\n",
    "                    set c [lindex $data $z]  \n",
    "                    if {!$d2 && $a+$b+$c == 2020} {\n",
    "                    puts  Part2:\\t[* $a $b $c]\n",
    "                    set d2 true\n",
    "                   \n",
    "                }           \n",
    "            }\n",
    "        }\n",
    "    }\n",
    "}\n",
    "time {parts $data}"
   ]
  },
  {
   "cell_type": "markdown",
   "metadata": {},
   "source": [
    "# Approach with sets"
   ]
  },
  {
   "cell_type": "code",
   "execution_count": 15,
   "metadata": {},
   "outputs": [
    {
     "data": {
      "text/plain": [
       "1054 1072 1085 1089 1091 1094 1097 1100 1107 1116 1118 1122 1123 1143 1148 1153 1169 1176 1187 1193 1198 1205 1214 1216 1221 1230 1232 1243 1245 1249 1251 1254 1256 1259 1262 1263 1271 1273 1282 1283 1284 1285 1288 1301 1302 1306 1314 1315 1318 1323 1324 1325 1331 1332 1335 1337 1346 1347 1352 1354 1363 1364 1365 1370 1373 1380 1386 1390 1397 1400 1417 1434 1435 1436 1439 1445 1457 1464 1467 1470 1474 1476 1479 1480 1483 1487 1489 1504 1505 1514 1517 1518 1521 1526 1529 1544 1547 1553 1561 1565 1567 1570 1577 1584 1586 1594 1602 1603 1606 1609 1611 1622 1628 1631 1633 1635 1642 1644 1648 1653 1654 1655 1658 1663 1665 1667 1676 1678 1680 1682 1683 1687 1699 1717 1718 1721 1730 1732 1735 1738 1740 1742 1750 1769 1770 1771 1774 1780 1785 1786 1808 1819 1821 1832 1833 1844 1849 1852 1854 1855 1863 1864 1882 1889 1891 1894 1900 1901 1903 1906 1911 1917 1927 1938 1945 1953 1955 1961 1962 1965 1968 1969 1973 1974 1977 1981 1991 1993 1996 2001 2006 2008 2010 289 376 480 490 835 92 957"
      ]
     },
     "execution_count": 15,
     "metadata": {},
     "output_type": "execute_result"
    }
   ],
   "source": [
    "set sdata [lsort -unique $data]"
   ]
  },
  {
   "cell_type": "code",
   "execution_count": 16,
   "metadata": {},
   "outputs": [
    {
     "name": "stdout",
     "output_type": "stream",
     "text": [
      "spart2\t173538720\n",
      "spart1:\t618144\n"
     ]
    },
    {
     "data": {
      "text/plain": [
       "27979 microseconds per iteration"
      ]
     },
     "execution_count": 16,
     "metadata": {},
     "output_type": "execute_result"
    }
   ],
   "source": [
    "set sdata [lsort -unique $data]\n",
    "\n",
    "\n",
    "proc spart {data} {\n",
    "    set d1 false\n",
    "    set d2 false\n",
    "    set l [llength $data]\n",
    "    for {set i 0} {$i < $l} {incr i} {\n",
    "        if {$d1 && $d2} {return}\n",
    "        set x [lindex $data $i]\n",
    "        set rest [expr {2020 - $x}] \n",
    "        if {!$d1 && ($rest in $data) } {puts spart1:\\t[expr {$x * $rest}] ; set d1 true}\n",
    "         for {set j $i} {$j < $l} {incr j} {\n",
    "            set y [lindex $data $j]\n",
    "            set z [expr {$rest - [lindex $data $j]}]\n",
    "            if {!$d2 && ($z in $data) } {puts spart2\\t[expr {$x * $y * $z}]; set d2 true  }\n",
    "        }\n",
    "        \n",
    "    }\n",
    "    \n",
    "}\n",
    "\n",
    "time {spart $sdata}"
   ]
  },
  {
   "cell_type": "code",
   "execution_count": null,
   "metadata": {},
   "outputs": [],
   "source": []
  }
 ],
 "metadata": {
  "kernelspec": {
   "display_name": "Tcl",
   "language": "tcl",
   "name": "tcljupyter"
  },
  "language_info": {
   "file_extension": ".tcl",
   "mimetype": "txt/x-tcl",
   "name": "tcl",
   "version": "8.6.10"
  }
 },
 "nbformat": 4,
 "nbformat_minor": 4
}
